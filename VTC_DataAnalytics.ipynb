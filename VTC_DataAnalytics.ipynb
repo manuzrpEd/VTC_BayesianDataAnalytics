{
 "cells": [
  {
   "cell_type": "markdown",
   "metadata": {},
   "source": [
    "# VTC_DataAnalytics\n",
    "\n",
    "I will tackle real-life questions pertaining to VTC Data Analytics in my preferred format.\n",
    "\n",
    "When something is unclear, I will state clearly my assumptions and will go ahead as I see fit, inlcuding all elements.\n",
    "\n",
    "I will have fun in the process - see what I can come up with.\n",
    "\n",
    "https://towardsdatascience.com/bayesian-ab-testing-with-pyro-cd4daff686e1"
   ]
  },
  {
   "cell_type": "code",
   "execution_count": 159,
   "metadata": {},
   "outputs": [],
   "source": [
    "%%capture\n",
    "# install libraries\n",
    "!pip install matplotlib numpy openpyxl pandas"
   ]
  },
  {
   "cell_type": "code",
   "execution_count": 160,
   "metadata": {},
   "outputs": [],
   "source": [
    "# import libraries\n",
    "import sqlite3\n",
    "#\n",
    "import pandas as pd\n",
    "import matplotlib.pyplot as plt"
   ]
  },
  {
   "cell_type": "markdown",
   "metadata": {},
   "source": [
    "# Part 1"
   ]
  },
  {
   "cell_type": "markdown",
   "metadata": {},
   "source": [
    "Create a database importing data from Excel.\n",
    "\n",
    "We do this to simulate how to write an executable SQL query to answer the question.\n",
    "\n",
    "We can do this with SQLite, which is a self-contained, serverless, zero-configuration, transactional SQL database engine."
   ]
  },
  {
   "cell_type": "code",
   "execution_count": 161,
   "metadata": {},
   "outputs": [
    {
     "data": {
      "text/plain": [
       "65534"
      ]
     },
     "execution_count": 161,
     "metadata": {},
     "output_type": "execute_result"
    }
   ],
   "source": [
    "conn = sqlite3.connect('VTC_DataAnalytics.db') #SQLite database file\n",
    "df = pd.read_excel('mobile_events.xlsx') #path to the Excel file dataset\n",
    "df.to_sql('MOBILE_EVENTS', conn, if_exists='replace', index=False) #a table within the database\n"
   ]
  },
  {
   "cell_type": "markdown",
   "metadata": {},
   "source": [
    "Define a single SQL query, assuming read-only access to the database (i.e. do not use ``CREATE TABLE``)\n",
    "\n",
    "What is the percentage of sessions which end up in a ride order everyday?\n",
    "\n",
    "Assumptions:\n",
    "1) Session definition: a Session is a product life-cycle journey by ``device_id`` that starts with \"pickup_shown\" and finishes with \"ride_order_tapped\".\\\n",
    "Note: a Sesion in Google Analytics within the context of mobile apps is a journey since the user opens the App and closes it. This has to not be confused with a Session within our VTC context.\n",
    "\n",
    "2) We will be agnostic as to what happens within the session, and only measure sessions with a \"pickup_shown\" start and a \"ride_order_tapped\" end. The user can go back and forth during the pre-order session, so we only count the first \"pickup_shown\".\n",
    "\n",
    "3) We need to accommodate for the possibility of the same ``device_id`` having multiple sessions during the day.\n",
    "\n",
    "4) We need to accommodate for the possibility of a session to start before the end of day threshold, in which case we will use the start of the session (\"pickup_shown\") as the timestamp that defines the daily session that can potentially end up in a ride order."
   ]
  },
  {
   "cell_type": "code",
   "execution_count": 162,
   "metadata": {},
   "outputs": [],
   "source": [
    "query = \"\"\"\n",
    "WITH first_pickup_shown AS (\n",
    "  SELECT\n",
    "    device_id,\n",
    "    event_name,\n",
    "    MIN(timestamp) as datetime\n",
    "  FROM MOBILE_EVENTS\n",
    "  WHERE event_name = 'pickup_shown'\n",
    "  GROUP BY device_id, DATE(timestamp)\n",
    "),\n",
    "\n",
    "first_pickup_after_ride AS (\n",
    "  WITH ride_order_tapped_events AS (\n",
    "    SELECT\n",
    "      device_id,\n",
    "      timestamp as ride_order_tapped_time\n",
    "    FROM MOBILE_EVENTS\n",
    "    WHERE event_name = 'ride_order_tapped'\n",
    "  )\n",
    "\n",
    "  SELECT\n",
    "    R.device_id,\n",
    "    event_name,\n",
    "    MIN(M.timestamp) as datetime\n",
    "  FROM ride_order_tapped_events R\n",
    "  JOIN MOBILE_EVENTS M\n",
    "    ON R.device_id = M.device_id\n",
    "    AND (M.event_name = 'pickup_shown' OR M.event_name = 'ride_order_tapped')\n",
    "    AND M.timestamp > R.ride_order_tapped_time\n",
    "  GROUP BY R.device_id, R.ride_order_tapped_time\n",
    "),\n",
    "\n",
    "ride_order_tapped_events AS (\n",
    "  SELECT\n",
    "    device_id,\n",
    "    event_name,\n",
    "    timestamp as datetime\n",
    "  FROM MOBILE_EVENTS\n",
    "  WHERE event_name = 'ride_order_tapped'\n",
    "),\n",
    "\n",
    "combined_events AS (\n",
    "  SELECT device_id, event_name, datetime FROM first_pickup_shown\n",
    "  UNION ALL\n",
    "  SELECT device_id, event_name, datetime FROM first_pickup_after_ride\n",
    "  UNION ALL\n",
    "  SELECT device_id, event_name, datetime FROM ride_order_tapped_events\n",
    "),\n",
    "\n",
    "filtered_events AS (\n",
    "  SELECT\n",
    "    device_id,\n",
    "    event_name,\n",
    "    datetime,\n",
    "    LAG(event_name) OVER (PARTITION BY device_id ORDER BY datetime) as prev_event\n",
    "  FROM combined_events\n",
    "),\n",
    "\n",
    "adjusted_dates AS (\n",
    "  SELECT DISTINCT\n",
    "    device_id, \n",
    "    event_name, \n",
    "    datetime, \n",
    "    DATE(datetime) as date,\n",
    "    CASE \n",
    "      WHEN event_name = 'ride_order_tapped' \n",
    "           AND prev_event IS NULL \n",
    "        THEN DATE(DATE(datetime), '-1 day')\n",
    "      ELSE DATE(datetime)\n",
    "    END as adjusted_date\n",
    "  FROM filtered_events\n",
    "  WHERE event_name <> 'ride_order_tapped' OR prev_event <> 'ride_order_tapped'\n",
    ")\n",
    "\n",
    "SELECT\n",
    "  adjusted_date,\n",
    "  SUM(CASE WHEN event_name = 'pickup_shown' THEN 1 ELSE 0 END) as pickup_shown_sum,\n",
    "  SUM(CASE WHEN event_name = 'ride_order_tapped' THEN 1 ELSE 0 END) as ride_order_tapped_sum,\n",
    "  CASE \n",
    "    WHEN SUM(CASE WHEN event_name = 'pickup_shown' THEN 1 ELSE 0 END) <> 0 \n",
    "      THEN CAST(SUM(CASE WHEN event_name = 'ride_order_tapped' THEN 1 ELSE 0 END) as float) / \n",
    "           SUM(CASE WHEN event_name = 'pickup_shown' THEN 1 ELSE 0 END)\n",
    "    ELSE NULL\n",
    "  END as percentage\n",
    "FROM adjusted_dates\n",
    "GROUP BY adjusted_date\n",
    "ORDER BY adjusted_date;\n",
    "\"\"\"\n",
    "\n",
    "# Execute the query\n",
    "query_results = pd.read_sql_query(query, conn)#.to_csv('test.csv')"
   ]
  },
  {
   "cell_type": "code",
   "execution_count": 163,
   "metadata": {},
   "outputs": [
    {
     "data": {
      "text/html": [
       "<div>\n",
       "<style scoped>\n",
       "    .dataframe tbody tr th:only-of-type {\n",
       "        vertical-align: middle;\n",
       "    }\n",
       "\n",
       "    .dataframe tbody tr th {\n",
       "        vertical-align: top;\n",
       "    }\n",
       "\n",
       "    .dataframe thead th {\n",
       "        text-align: right;\n",
       "    }\n",
       "</style>\n",
       "<table border=\"1\" class=\"dataframe\">\n",
       "  <thead>\n",
       "    <tr style=\"text-align: right;\">\n",
       "      <th></th>\n",
       "      <th>adjusted_date</th>\n",
       "      <th>pickup_shown_sum</th>\n",
       "      <th>ride_order_tapped_sum</th>\n",
       "      <th>percentage</th>\n",
       "    </tr>\n",
       "  </thead>\n",
       "  <tbody>\n",
       "    <tr>\n",
       "      <th>0</th>\n",
       "      <td>2020-10-01</td>\n",
       "      <td>570</td>\n",
       "      <td>408</td>\n",
       "      <td>71.578947</td>\n",
       "    </tr>\n",
       "    <tr>\n",
       "      <th>1</th>\n",
       "      <td>2020-10-02</td>\n",
       "      <td>659</td>\n",
       "      <td>444</td>\n",
       "      <td>67.374810</td>\n",
       "    </tr>\n",
       "    <tr>\n",
       "      <th>2</th>\n",
       "      <td>2020-10-03</td>\n",
       "      <td>692</td>\n",
       "      <td>485</td>\n",
       "      <td>70.086705</td>\n",
       "    </tr>\n",
       "    <tr>\n",
       "      <th>3</th>\n",
       "      <td>2020-10-04</td>\n",
       "      <td>593</td>\n",
       "      <td>399</td>\n",
       "      <td>67.284992</td>\n",
       "    </tr>\n",
       "    <tr>\n",
       "      <th>4</th>\n",
       "      <td>2020-10-05</td>\n",
       "      <td>562</td>\n",
       "      <td>384</td>\n",
       "      <td>68.327402</td>\n",
       "    </tr>\n",
       "    <tr>\n",
       "      <th>5</th>\n",
       "      <td>2020-10-06</td>\n",
       "      <td>581</td>\n",
       "      <td>401</td>\n",
       "      <td>69.018933</td>\n",
       "    </tr>\n",
       "    <tr>\n",
       "      <th>6</th>\n",
       "      <td>2020-10-07</td>\n",
       "      <td>537</td>\n",
       "      <td>371</td>\n",
       "      <td>69.087523</td>\n",
       "    </tr>\n",
       "  </tbody>\n",
       "</table>\n",
       "</div>"
      ],
      "text/plain": [
       "  adjusted_date  pickup_shown_sum  ride_order_tapped_sum  percentage\n",
       "0    2020-10-01               570                    408   71.578947\n",
       "1    2020-10-02               659                    444   67.374810\n",
       "2    2020-10-03               692                    485   70.086705\n",
       "3    2020-10-04               593                    399   67.284992\n",
       "4    2020-10-05               562                    384   68.327402\n",
       "5    2020-10-06               581                    401   69.018933\n",
       "6    2020-10-07               537                    371   69.087523"
      ]
     },
     "execution_count": 163,
     "metadata": {},
     "output_type": "execute_result"
    }
   ],
   "source": [
    "query_results['percentage'] *= 100\n",
    "query_results"
   ]
  },
  {
   "cell_type": "code",
   "execution_count": 164,
   "metadata": {},
   "outputs": [
    {
     "name": "stdout",
     "output_type": "stream",
     "text": [
      "Average percentage (%) of sessions that end up in a ride order on a given day:  68.97\n"
     ]
    }
   ],
   "source": [
    "print(f\"Average percentage (%) of sessions that end up in a ride order on a given day: \",round(query_results['percentage'].mean(),2))"
   ]
  },
  {
   "cell_type": "code",
   "execution_count": 165,
   "metadata": {},
   "outputs": [
    {
     "data": {
      "image/png": "[encoded data removed]",
      "text/plain": [
       "<Figure size 1000x500 with 1 Axes>"
      ]
     },
     "metadata": {},
     "output_type": "display_data"
    }
   ],
   "source": [
    "# Convert adjusted_date to datetime for proper plotting\n",
    "query_results['adjusted_date'] = pd.to_datetime(query_results['adjusted_date'])\n",
    "\n",
    "# Plotting\n",
    "plt.figure(figsize=(10, 5))\n",
    "plt.plot(query_results['adjusted_date'], query_results['percentage'], marker='o')\n",
    "plt.xlabel('\\n Date')\n",
    "plt.ylabel('Percentage (%)')\n",
    "plt.title('Percentage of user Sessions that end up in a ride order over time')\n",
    "plt.ylim(0,100)\n",
    "plt.grid(True)\n",
    "plt.show()"
   ]
  },
  {
   "cell_type": "markdown",
   "metadata": {},
   "source": [
    "We can see that the percentage of sessions that end up in a ride order is fairly stable over this time period. The average percentage (%) of sessions that end up in a ride order on a given day is of  68.97%. With the maximum (minimum) daily percentages reaching 71.58% (67.37%)."
   ]
  },
  {
   "cell_type": "markdown",
   "metadata": {},
   "source": [
    "We suspect the ``payments_selected`` event to not be triggered properly by the app.\n",
    "How many of them didn't fire ?"
   ]
  },
  {
   "cell_type": "markdown",
   "metadata": {},
   "source": [
    "Assumptions:\n",
    "1) Between \"payments_shown\" and \"ride_order_tapped\", there should be an event triggering, i.e. \"payments_selected\".\n",
    "\n",
    "2) We will count the transitions from \"payments_shown\" to \"ride_order_tapped\" as a non-triggered event. We assume that this transition should have genuinely triggered the \"payments_selected\" event."
   ]
  },
  {
   "cell_type": "code",
   "execution_count": 166,
   "metadata": {},
   "outputs": [],
   "source": [
    "query = \"\"\"\n",
    "WITH ride_order_events AS (\n",
    "  SELECT\n",
    "      device_id,\n",
    "      event_name,\n",
    "      timestamp,\n",
    "      LAG(event_name) OVER (PARTITION BY device_id ORDER BY timestamp) as prev_event\n",
    "    FROM MOBILE_EVENTS\n",
    ")\n",
    "\n",
    "SELECT\n",
    "  SUM(CASE WHEN prev_event = 'payments_shown' THEN 1 ELSE 0 END) as payments_shown_sum,\n",
    "  SUM(CASE WHEN prev_event = 'payments_selected' THEN 1 ELSE 0 END) as payments_selected_sum,\n",
    "  CASE \n",
    "    WHEN SUM(CASE WHEN prev_event = 'ride_order_tapped' THEN 1 ELSE 0 END) <> 0 \n",
    "      THEN CAST(SUM(CASE WHEN prev_event = 'payments_selected' THEN 1 ELSE 0 END) as float) / \n",
    "           SUM(CASE WHEN event_name = 'ride_order_tapped' THEN 1 ELSE 0 END)\n",
    "    ELSE NULL\n",
    "  END as percentage_selected\n",
    "FROM ride_order_events\n",
    "WHERE event_name = 'ride_order_tapped';\n",
    "\"\"\"\n",
    "\n",
    "# Execute the query\n",
    "query_results = pd.read_sql_query(query, conn)#.to_csv('test.csv')"
   ]
  },
  {
   "cell_type": "code",
   "execution_count": 167,
   "metadata": {},
   "outputs": [
    {
     "data": {
      "text/html": [
       "<div>\n",
       "<style scoped>\n",
       "    .dataframe tbody tr th:only-of-type {\n",
       "        vertical-align: middle;\n",
       "    }\n",
       "\n",
       "    .dataframe tbody tr th {\n",
       "        vertical-align: top;\n",
       "    }\n",
       "\n",
       "    .dataframe thead th {\n",
       "        text-align: right;\n",
       "    }\n",
       "</style>\n",
       "<table border=\"1\" class=\"dataframe\">\n",
       "  <thead>\n",
       "    <tr style=\"text-align: right;\">\n",
       "      <th></th>\n",
       "      <th>payments_shown_sum</th>\n",
       "      <th>payments_selected_sum</th>\n",
       "      <th>percentage_selected</th>\n",
       "      <th>percentage_shown</th>\n",
       "    </tr>\n",
       "  </thead>\n",
       "  <tbody>\n",
       "    <tr>\n",
       "      <th>0</th>\n",
       "      <td>1876</td>\n",
       "      <td>619</td>\n",
       "      <td>16.880284</td>\n",
       "      <td>83.119716</td>\n",
       "    </tr>\n",
       "  </tbody>\n",
       "</table>\n",
       "</div>"
      ],
      "text/plain": [
       "   payments_shown_sum  payments_selected_sum  percentage_selected  \\\n",
       "0                1876                    619            16.880284   \n",
       "\n",
       "   percentage_shown  \n",
       "0         83.119716  "
      ]
     },
     "execution_count": 167,
     "metadata": {},
     "output_type": "execute_result"
    }
   ],
   "source": [
    "query_results['percentage_selected'] *= 100\n",
    "query_results['percentage_shown'] = 100 - query_results['percentage_selected']\n",
    "query_results"
   ]
  },
  {
   "cell_type": "code",
   "execution_count": 168,
   "metadata": {},
   "outputs": [
    {
     "name": "stdout",
     "output_type": "stream",
     "text": [
      "Total number of non-triggered payment_selected events:  1876\n",
      "Percentage (%) of non-triggered payment_selected events over ride_order_tapped:  83.12\n"
     ]
    }
   ],
   "source": [
    "print(f\"Total number of non-triggered payment_selected events: \",query_results['payments_shown_sum'].iloc[0])\n",
    "print(f\"Percentage (%) of non-triggered payment_selected events over ride_order_tapped: \",round(query_results['percentage_shown'].mean(),2))"
   ]
  },
  {
   "cell_type": "markdown",
   "metadata": {},
   "source": [
    "We can see that the total number of non-triggered ``payment_selected`` events is of 1876 events.\\\n",
    "To put it into perspective, the percentage (%) of non-triggered ``payment_selected`` events over the number of ``ride_order_tapped`` events is of 83.12%. This is a large percentage, indicative that there is an issue surrounding the ``payment_selected`` event within the app, as suspected."
   ]
  },
  {
   "cell_type": "markdown",
   "metadata": {},
   "source": [
    "Based on the dataset in Part 1, how would you help your Product Manager figure\n",
    "out what works and what doesn’t work during the Preorder?\n",
    "\n",
    "How would you communicate your conclusions in a concise way?\n",
    "\n",
    "We will use data visualization to illustrate our approach."
   ]
  },
  {
   "cell_type": "markdown",
   "metadata": {},
   "source": [
    "# Part 2"
   ]
  },
  {
   "cell_type": "markdown",
   "metadata": {},
   "source": [
    "Based on the dataset in Part 1, how would you help your Product Manager figure out what works and what doesn’t work during the Preorder?"
   ]
  },
  {
   "cell_type": "markdown",
   "metadata": {},
   "source": [
    "I would create a Funnel Analysis which illustrates the journey that users make during the Preorder.\n",
    "\n",
    "A Funnel Analysis will reproduce the sequence of events that users take before placing an order ``ride_order_tapped``.\n",
    "\n",
    "With a Funnel Analysis we can check if there are certain steps in the user journey that impede a smooth exit to ``ride_order_tapped``. With this, we can potentially identify steps in the Preorder that don't work, where either the app events don't trigger or users find it difficult to go though."
   ]
  },
  {
   "cell_type": "code",
   "execution_count": 169,
   "metadata": {},
   "outputs": [],
   "source": [
    "steps = []\n",
    "conversion_rates = []"
   ]
  },
  {
   "cell_type": "code",
   "execution_count": 170,
   "metadata": {},
   "outputs": [
    {
     "data": {
      "text/html": [
       "<div>\n",
       "<style scoped>\n",
       "    .dataframe tbody tr th:only-of-type {\n",
       "        vertical-align: middle;\n",
       "    }\n",
       "\n",
       "    .dataframe tbody tr th {\n",
       "        vertical-align: top;\n",
       "    }\n",
       "\n",
       "    .dataframe thead th {\n",
       "        text-align: right;\n",
       "    }\n",
       "</style>\n",
       "<table border=\"1\" class=\"dataframe\">\n",
       "  <thead>\n",
       "    <tr style=\"text-align: right;\">\n",
       "      <th></th>\n",
       "      <th>dropoff_confirmed_sum</th>\n",
       "      <th>pickup_confirmed_sum</th>\n",
       "      <th>percentage_selected</th>\n",
       "    </tr>\n",
       "  </thead>\n",
       "  <tbody>\n",
       "    <tr>\n",
       "      <th>0</th>\n",
       "      <td>4358</td>\n",
       "      <td>4948</td>\n",
       "      <td>88.07599</td>\n",
       "    </tr>\n",
       "  </tbody>\n",
       "</table>\n",
       "</div>"
      ],
      "text/plain": [
       "   dropoff_confirmed_sum  pickup_confirmed_sum  percentage_selected\n",
       "0                   4358                  4948             88.07599"
      ]
     },
     "execution_count": 170,
     "metadata": {},
     "output_type": "execute_result"
    }
   ],
   "source": [
    "query = \"\"\"\n",
    "WITH pickup_events AS (\n",
    "  SELECT\n",
    "      device_id,\n",
    "      event_name,\n",
    "      timestamp,\n",
    "      LEAD(event_name) OVER (PARTITION BY device_id ORDER BY timestamp) as post_event\n",
    "    FROM MOBILE_EVENTS\n",
    "    WHERE event_name = 'pickup_confirmed' or event_name = 'dropoff_confirmed'\n",
    ")\n",
    "\n",
    "SELECT\n",
    "  SUM(CASE WHEN post_event = 'dropoff_confirmed' THEN 1 ELSE 0 END) as dropoff_confirmed_sum,\n",
    "  SUM(CASE WHEN event_name = 'pickup_confirmed' THEN 1 ELSE 0 END) as pickup_confirmed_sum,\n",
    "  CASE \n",
    "    WHEN SUM(CASE WHEN event_name = 'pickup_confirmed' THEN 1 ELSE 0 END) <> 0 \n",
    "      THEN CAST(SUM(CASE WHEN post_event = 'dropoff_confirmed' THEN 1 ELSE 0 END) as float) / \n",
    "           SUM(CASE WHEN event_name = 'pickup_confirmed' THEN 1 ELSE 0 END)\n",
    "    ELSE NULL\n",
    "  END as percentage_selected\n",
    "FROM pickup_events\n",
    "WHERE event_name = 'pickup_confirmed';\n",
    "\"\"\"\n",
    "# Execute the query\n",
    "query_results = pd.read_sql_query(query, conn)#.to_csv('test.csv')\n",
    "query_results['percentage_selected'] *= 100\n",
    "query_results"
   ]
  },
  {
   "cell_type": "code",
   "execution_count": 171,
   "metadata": {},
   "outputs": [
    {
     "name": "stdout",
     "output_type": "stream",
     "text": [
      "Conversion rates (%) of pickup_confirmed to dropoff_confirmed:  88.08\n"
     ]
    }
   ],
   "source": [
    "print(f\"Conversion rates (%) of pickup_confirmed to dropoff_confirmed: \",round(query_results['percentage_selected'].mean(),2))"
   ]
  },
  {
   "cell_type": "code",
   "execution_count": 172,
   "metadata": {},
   "outputs": [],
   "source": [
    "steps.append('Pickup - Dropoff')\n",
    "conversion_rates.append(round(query_results['percentage_selected'].mean(),2))"
   ]
  },
  {
   "cell_type": "code",
   "execution_count": 173,
   "metadata": {},
   "outputs": [
    {
     "data": {
      "text/html": [
       "<div>\n",
       "<style scoped>\n",
       "    .dataframe tbody tr th:only-of-type {\n",
       "        vertical-align: middle;\n",
       "    }\n",
       "\n",
       "    .dataframe tbody tr th {\n",
       "        vertical-align: top;\n",
       "    }\n",
       "\n",
       "    .dataframe thead th {\n",
       "        text-align: right;\n",
       "    }\n",
       "</style>\n",
       "<table border=\"1\" class=\"dataframe\">\n",
       "  <thead>\n",
       "    <tr style=\"text-align: right;\">\n",
       "      <th></th>\n",
       "      <th>payments_shown_sum</th>\n",
       "      <th>dropoff_confirmed_sum</th>\n",
       "      <th>percentage_selected</th>\n",
       "    </tr>\n",
       "  </thead>\n",
       "  <tbody>\n",
       "    <tr>\n",
       "      <th>0</th>\n",
       "      <td>4311</td>\n",
       "      <td>5442</td>\n",
       "      <td>79.2172</td>\n",
       "    </tr>\n",
       "  </tbody>\n",
       "</table>\n",
       "</div>"
      ],
      "text/plain": [
       "   payments_shown_sum  dropoff_confirmed_sum  percentage_selected\n",
       "0                4311                   5442              79.2172"
      ]
     },
     "execution_count": 173,
     "metadata": {},
     "output_type": "execute_result"
    }
   ],
   "source": [
    "query = \"\"\"\n",
    "WITH payments_shown_events AS (\n",
    "  SELECT\n",
    "      device_id,\n",
    "      event_name,\n",
    "      timestamp,\n",
    "      LEAD(event_name) OVER (PARTITION BY device_id ORDER BY timestamp) as post_event\n",
    "    FROM MOBILE_EVENTS\n",
    "    WHERE event_name = 'payments_shown' or event_name = 'dropoff_confirmed'\n",
    ")\n",
    "\n",
    "SELECT\n",
    "  SUM(CASE WHEN post_event = 'payments_shown' THEN 1 ELSE 0 END) as payments_shown_sum,\n",
    "  SUM(CASE WHEN event_name = 'dropoff_confirmed' THEN 1 ELSE 0 END) as dropoff_confirmed_sum,\n",
    "  CASE \n",
    "    WHEN SUM(CASE WHEN event_name = 'dropoff_confirmed' THEN 1 ELSE 0 END) <> 0 \n",
    "      THEN CAST(SUM(CASE WHEN post_event = 'payments_shown' THEN 1 ELSE 0 END) as float) / \n",
    "           SUM(CASE WHEN event_name = 'dropoff_confirmed' THEN 1 ELSE 0 END)\n",
    "    ELSE NULL\n",
    "  END as percentage_selected\n",
    "FROM payments_shown_events\n",
    "WHERE event_name = 'dropoff_confirmed';\n",
    "\"\"\"\n",
    "# Execute the query\n",
    "query_results = pd.read_sql_query(query, conn)#.to_csv('test.csv')\n",
    "query_results['percentage_selected'] *= 100\n",
    "query_results"
   ]
  },
  {
   "cell_type": "code",
   "execution_count": 174,
   "metadata": {},
   "outputs": [
    {
     "name": "stdout",
     "output_type": "stream",
     "text": [
      "Conversion rates (%) of dropoff_confirmed to payments_shown:  79.22\n"
     ]
    }
   ],
   "source": [
    "print(f\"Conversion rates (%) of dropoff_confirmed to payments_shown: \",round(query_results['percentage_selected'].mean(),2))"
   ]
  },
  {
   "cell_type": "code",
   "execution_count": 175,
   "metadata": {},
   "outputs": [],
   "source": [
    "steps.append('Dropoff - PaymentsShown')\n",
    "conversion_rates.append(round(query_results['percentage_selected'].mean(),2))"
   ]
  },
  {
   "cell_type": "code",
   "execution_count": 176,
   "metadata": {},
   "outputs": [
    {
     "data": {
      "text/html": [
       "<div>\n",
       "<style scoped>\n",
       "    .dataframe tbody tr th:only-of-type {\n",
       "        vertical-align: middle;\n",
       "    }\n",
       "\n",
       "    .dataframe tbody tr th {\n",
       "        vertical-align: top;\n",
       "    }\n",
       "\n",
       "    .dataframe thead th {\n",
       "        text-align: right;\n",
       "    }\n",
       "</style>\n",
       "<table border=\"1\" class=\"dataframe\">\n",
       "  <thead>\n",
       "    <tr style=\"text-align: right;\">\n",
       "      <th></th>\n",
       "      <th>ride_order_tapped_sum</th>\n",
       "      <th>payments_shown_sum</th>\n",
       "      <th>percentage_selected</th>\n",
       "    </tr>\n",
       "  </thead>\n",
       "  <tbody>\n",
       "    <tr>\n",
       "      <th>0</th>\n",
       "      <td>3257</td>\n",
       "      <td>8037</td>\n",
       "      <td>40.525072</td>\n",
       "    </tr>\n",
       "  </tbody>\n",
       "</table>\n",
       "</div>"
      ],
      "text/plain": [
       "   ride_order_tapped_sum  payments_shown_sum  percentage_selected\n",
       "0                   3257                8037            40.525072"
      ]
     },
     "execution_count": 176,
     "metadata": {},
     "output_type": "execute_result"
    }
   ],
   "source": [
    "query = \"\"\"\n",
    "WITH ride_order_tapped_events AS (\n",
    "  SELECT\n",
    "      device_id,\n",
    "      event_name,\n",
    "      timestamp,\n",
    "      LEAD(event_name) OVER (PARTITION BY device_id ORDER BY timestamp) as post_event\n",
    "    FROM MOBILE_EVENTS\n",
    "    WHERE event_name = 'payments_shown' or event_name = 'ride_order_tapped'\n",
    ")\n",
    "\n",
    "SELECT\n",
    "  SUM(CASE WHEN post_event = 'ride_order_tapped' THEN 1 ELSE 0 END) as ride_order_tapped_sum,\n",
    "  SUM(CASE WHEN event_name = 'payments_shown' THEN 1 ELSE 0 END) as payments_shown_sum,\n",
    "  CASE \n",
    "    WHEN SUM(CASE WHEN event_name = 'payments_shown' THEN 1 ELSE 0 END) <> 0 \n",
    "      THEN CAST(SUM(CASE WHEN post_event = 'ride_order_tapped' THEN 1 ELSE 0 END) as float) / \n",
    "           SUM(CASE WHEN event_name = 'payments_shown' THEN 1 ELSE 0 END)\n",
    "    ELSE NULL\n",
    "  END as percentage_selected\n",
    "FROM ride_order_tapped_events\n",
    "WHERE event_name = 'payments_shown';\n",
    "\"\"\"\n",
    "# Execute the query\n",
    "query_results = pd.read_sql_query(query, conn)#.to_csv('test.csv')\n",
    "query_results['percentage_selected'] *= 100\n",
    "query_results"
   ]
  },
  {
   "cell_type": "code",
   "execution_count": 177,
   "metadata": {},
   "outputs": [
    {
     "name": "stdout",
     "output_type": "stream",
     "text": [
      "Conversion rates (%) of payments_shown to ride_order_tapped:  40.53\n"
     ]
    }
   ],
   "source": [
    "print(f\"Conversion rates (%) of payments_shown to ride_order_tapped: \",round(query_results['percentage_selected'].mean(),2))"
   ]
  },
  {
   "cell_type": "code",
   "execution_count": 178,
   "metadata": {},
   "outputs": [],
   "source": [
    "steps.append('PaymentsShown - Order')\n",
    "conversion_rates.append(round(query_results['percentage_selected'].mean(),2))"
   ]
  },
  {
   "cell_type": "code",
   "execution_count": 179,
   "metadata": {},
   "outputs": [
    {
     "data": {
      "image/png": "[encoded data removed]",
      "text/plain": [
       "<Figure size 800x600 with 1 Axes>"
      ]
     },
     "metadata": {},
     "output_type": "display_data"
    }
   ],
   "source": [
    "# Create a figure and axis\n",
    "fig, ax = plt.subplots(figsize=(8, 6))\n",
    "# Plot the funnel chart\n",
    "ax.plot(steps, conversion_rates, marker='o', color='b', linestyle='-')\n",
    "# Add labels and title\n",
    "ax.set_xlabel('\\nSteps')\n",
    "ax.set_ylabel('Conversion Rate (%)\\n')\n",
    "ax.set_title('Funnel Chart - User Journey Preorder')\n",
    "# Add annotations for conversion rates\n",
    "for i, rate in enumerate(conversion_rates):\n",
    "    ax.annotate(f'{rate}%', (i, rate), textcoords=\"offset points\", xytext=(0.5,5), ha='center')\n",
    "plt.grid(True,alpha=0.3,linestyle='--')\n",
    "plt.show()"
   ]
  },
  {
   "cell_type": "code",
   "execution_count": 180,
   "metadata": {},
   "outputs": [],
   "source": [
    "# close connection:\n",
    "conn.close()"
   ]
  }
 ],
 "metadata": {
  "kernelspec": {
   "display_name": "myvenv",
   "language": "python",
   "name": "python3"
  },
  "language_info": {
   "codemirror_mode": {
    "name": "ipython",
    "version": 3
   },
   "file_extension": ".py",
   "mimetype": "text/x-python",
   "name": "python",
   "nbconvert_exporter": "python",
   "pygments_lexer": "ipython3",
   "version": "3.11.6"
  }
 },
 "nbformat": 4,
 "nbformat_minor": 2
}
