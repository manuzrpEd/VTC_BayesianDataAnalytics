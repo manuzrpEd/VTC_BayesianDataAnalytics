{
 "cells": [
  {
   "cell_type": "markdown",
   "metadata": {},
   "source": [
    "# VTC_DataAnalytics\n",
    "\n",
    "I will tackle real-life questions pertaining to VTC Data Analytics in my preferred format.\n",
    "\n",
    "When something is unclear, I will state clearly my assumptions and will go ahead as I see fit, inlcuding all elements.\n",
    "\n",
    "I will have fun in the process - see what I can come up with."
   ]
  },
  {
   "cell_type": "code",
   "execution_count": 1,
   "metadata": {},
   "outputs": [],
   "source": [
    "# import libraries\n",
    "import sqlite3\n",
    "#\n",
    "import pandas as pd"
   ]
  },
  {
   "cell_type": "markdown",
   "metadata": {},
   "source": [
    "# Part 1"
   ]
  },
  {
   "cell_type": "markdown",
   "metadata": {},
   "source": [
    "Create a database importing data from Excel.\n",
    "\n",
    "We do this to simulate how to write an executable SQL query to answer the question.\n",
    "\n",
    "We can do this with SQLite, which is a self-contained, serverless, zero-configuration, transactional SQL database engine."
   ]
  },
  {
   "cell_type": "code",
   "execution_count": 2,
   "metadata": {},
   "outputs": [
    {
     "data": {
      "text/plain": [
       "65534"
      ]
     },
     "execution_count": 2,
     "metadata": {},
     "output_type": "execute_result"
    }
   ],
   "source": [
    "conn = sqlite3.connect('VTC_DataAnalytics.db') #SQLite database file\n",
    "df = pd.read_excel('mobile_events.xlsx') #path to the Excel file dataset\n",
    "df.to_sql('MOBILE_EVENTS', conn, if_exists='replace', index=False) #a table within the database\n"
   ]
  },
  {
   "cell_type": "markdown",
   "metadata": {},
   "source": [
    "Define a single SQL query, assuming read-only access to the database (i.e. do not use ``CREATE TABLE``)\n",
    "\n",
    "What is the percentage of sessions which end up in a ride order everyday?\n",
    "\n",
    "Assumptions:\n",
    "1) Session definition: a Session is a product life-cycle journey by ``device_id`` that starts with \"pickup_shown\" and finishes with \"ride_order_tapped\".\\\n",
    "Note: a Sesion in Google Analytics within the context of mobile apps is a journey since the user opens the App and closes it. This has to not be confused with a Session within our VTC context.\n",
    "\n",
    "2) We will be agnostic as to what happens within the session, and only measure sessions with a \"pickup_shown\" start and a \"ride_order_tapped\" finish. The user can go back and forth during the pre-order session, so we only count the first \"pickup_shown\".\n",
    "\n",
    "3) We need to accommodate for the possibility of the same ``device_id`` having multiple sessions during the day.\n",
    "\n",
    "4) We need to accommodate for the possibility of a session to start before the end of day theshold, in which case we will use the start of the session (\"pickup_shown\") as the timestamp that defines the daily session that can potentially end up in a ride order."
   ]
  },
  {
   "cell_type": "code",
   "execution_count": 3,
   "metadata": {},
   "outputs": [
    {
     "data": {
      "text/html": [
       "<div>\n",
       "<style scoped>\n",
       "    .dataframe tbody tr th:only-of-type {\n",
       "        vertical-align: middle;\n",
       "    }\n",
       "\n",
       "    .dataframe tbody tr th {\n",
       "        vertical-align: top;\n",
       "    }\n",
       "\n",
       "    .dataframe thead th {\n",
       "        text-align: right;\n",
       "    }\n",
       "</style>\n",
       "<table border=\"1\" class=\"dataframe\">\n",
       "  <thead>\n",
       "    <tr style=\"text-align: right;\">\n",
       "      <th></th>\n",
       "      <th>device_id</th>\n",
       "      <th>event_name</th>\n",
       "      <th>timestamp</th>\n",
       "    </tr>\n",
       "  </thead>\n",
       "  <tbody>\n",
       "    <tr>\n",
       "      <th>0</th>\n",
       "      <td>1</td>\n",
       "      <td>pickup_shown</td>\n",
       "      <td>2020-10-02 15:36:02</td>\n",
       "    </tr>\n",
       "    <tr>\n",
       "      <th>1</th>\n",
       "      <td>2</td>\n",
       "      <td>pickup_shown</td>\n",
       "      <td>2020-10-06 17:05:31</td>\n",
       "    </tr>\n",
       "    <tr>\n",
       "      <th>2</th>\n",
       "      <td>2</td>\n",
       "      <td>pickup_shown</td>\n",
       "      <td>2020-10-06 17:06:10</td>\n",
       "    </tr>\n",
       "    <tr>\n",
       "      <th>3</th>\n",
       "      <td>2</td>\n",
       "      <td>pickup_shown</td>\n",
       "      <td>2020-10-06 17:06:14</td>\n",
       "    </tr>\n",
       "    <tr>\n",
       "      <th>4</th>\n",
       "      <td>2</td>\n",
       "      <td>pickup_shown</td>\n",
       "      <td>2020-10-06 17:07:35</td>\n",
       "    </tr>\n",
       "    <tr>\n",
       "      <th>...</th>\n",
       "      <td>...</td>\n",
       "      <td>...</td>\n",
       "      <td>...</td>\n",
       "    </tr>\n",
       "    <tr>\n",
       "      <th>21457</th>\n",
       "      <td>865</td>\n",
       "      <td>pickup_shown</td>\n",
       "      <td>2020-10-03 09:26:50</td>\n",
       "    </tr>\n",
       "    <tr>\n",
       "      <th>21458</th>\n",
       "      <td>865</td>\n",
       "      <td>pickup_shown</td>\n",
       "      <td>2020-10-03 09:26:51</td>\n",
       "    </tr>\n",
       "    <tr>\n",
       "      <th>21459</th>\n",
       "      <td>865</td>\n",
       "      <td>pickup_shown</td>\n",
       "      <td>2020-10-03 10:07:21</td>\n",
       "    </tr>\n",
       "    <tr>\n",
       "      <th>21460</th>\n",
       "      <td>865</td>\n",
       "      <td>pickup_shown</td>\n",
       "      <td>2020-10-03 10:41:08</td>\n",
       "    </tr>\n",
       "    <tr>\n",
       "      <th>21461</th>\n",
       "      <td>865</td>\n",
       "      <td>pickup_shown</td>\n",
       "      <td>2020-10-03 10:41:47</td>\n",
       "    </tr>\n",
       "  </tbody>\n",
       "</table>\n",
       "<p>21462 rows × 3 columns</p>\n",
       "</div>"
      ],
      "text/plain": [
       "       device_id    event_name            timestamp\n",
       "0              1  pickup_shown  2020-10-02 15:36:02\n",
       "1              2  pickup_shown  2020-10-06 17:05:31\n",
       "2              2  pickup_shown  2020-10-06 17:06:10\n",
       "3              2  pickup_shown  2020-10-06 17:06:14\n",
       "4              2  pickup_shown  2020-10-06 17:07:35\n",
       "...          ...           ...                  ...\n",
       "21457        865  pickup_shown  2020-10-03 09:26:50\n",
       "21458        865  pickup_shown  2020-10-03 09:26:51\n",
       "21459        865  pickup_shown  2020-10-03 10:07:21\n",
       "21460        865  pickup_shown  2020-10-03 10:41:08\n",
       "21461        865  pickup_shown  2020-10-03 10:41:47\n",
       "\n",
       "[21462 rows x 3 columns]"
      ]
     },
     "execution_count": 3,
     "metadata": {},
     "output_type": "execute_result"
    }
   ],
   "source": [
    "# query = \"\"\"\n",
    "# SELECT device_id, timestamp, event_name, DATE(timestamp) as date from MOBILE_EVENTS\n",
    "# where event_name = \"pickup_shown\" or event_name = \"ride_order_tapped\"\n",
    "# \"\"\"\n",
    "\n",
    "query = \"\"\"\n",
    "Select *\n",
    "from MOBILE_EVENTS\n",
    "where event_name = \"pickup_shown\" or event_name = \"ride_order_tapped\"\n",
    "\"\"\"\n",
    "\n",
    "# Execute the query\n",
    "pd.read_sql_query(query, conn)#.to_csv('test.csv')"
   ]
  },
  {
   "cell_type": "code",
   "execution_count": 4,
   "metadata": {},
   "outputs": [],
   "source": [
    "# close connection:\n",
    "conn.close()"
   ]
  }
 ],
 "metadata": {
  "kernelspec": {
   "display_name": "myvenv",
   "language": "python",
   "name": "python3"
  },
  "language_info": {
   "codemirror_mode": {
    "name": "ipython",
    "version": 3
   },
   "file_extension": ".py",
   "mimetype": "text/x-python",
   "name": "python",
   "nbconvert_exporter": "python",
   "pygments_lexer": "ipython3",
   "version": "3.11.6"
  }
 },
 "nbformat": 4,
 "nbformat_minor": 2
}
